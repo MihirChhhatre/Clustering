{
 "cells": [
  {
   "cell_type": "code",
   "execution_count": 2,
   "metadata": {},
   "outputs": [],
   "source": [
    "import numpy as np\n",
    "from sklearn.cluster import MeanShift\n",
    "from sklearn.datasets.samples_generator import make_blobs\n",
    "import matplotlib.pyplot as plt\n",
    "from matplotlib import style\n",
    "style.use(\"ggplot\")\n",
    "from matplotlib.pyplot import figure"
   ]
  },
  {
   "cell_type": "code",
   "execution_count": 3,
   "metadata": {},
   "outputs": [],
   "source": [
    "#centers = [[11,7.5],[17,12.5]]\n",
    "#centers = [[10,17.5],[14,10],[18,2.5]]\n",
    "centers = [[11,5],[14,10],[17,16]]\n",
    "X, _ = make_blobs(n_samples = 20, centers = centers, cluster_std = 1.7)"
   ]
  },
  {
   "cell_type": "code",
   "execution_count": 4,
   "metadata": {},
   "outputs": [
    {
     "name": "stdout",
     "output_type": "stream",
     "text": [
      "225364\n",
      "18\n",
      "7.5\n"
     ]
    }
   ],
   "source": [
    "##Getting co-ordinates of one car\n",
    "from firebase import firebase\n",
    "firebase = firebase.FirebaseApplication('https://ambu-b65bb.firebaseio.com/', None)\n",
    "carx = firebase.get('/car/231427/location/lat', None)\n",
    "cary = firebase.get('/car/231427/location/lon', None)\n",
    "carid = firebase.get('/car', None)\n",
    "cid = list(carid)\n",
    "print(cid[0])\n",
    "print(carx)\n",
    "print(cary)\n",
    "X = np.append(X,[np.array([carx,cary])],axis=0)"
   ]
  },
  {
   "cell_type": "code",
   "execution_count": 5,
   "metadata": {},
   "outputs": [
    {
     "name": "stdout",
     "output_type": "stream",
     "text": [
      "14\n",
      "12.5\n"
     ]
    }
   ],
   "source": [
    "## Getting the co-ordinates of ERV\n",
    "from firebase import firebase\n",
    "firebase = firebase.FirebaseApplication('https://ambu-b65bb.firebaseio.com/', None)\n",
    "erv_dest_x = firebase.get('/Ambulance/154068/destination/lat', None)\n",
    "erv_dest_y = firebase.get('/Ambulance/154068/destination/lon', None)\n",
    "print(erv_dest_x)\n",
    "print(erv_dest_y)"
   ]
  },
  {
   "cell_type": "code",
   "execution_count": 6,
   "metadata": {},
   "outputs": [
    {
     "name": "stdout",
     "output_type": "stream",
     "text": [
      "[18.   7.5]\n"
     ]
    },
    {
     "data": {
      "image/png": "[encoded data removed]",
      "text/plain": [
       "<Figure size 432x288 with 1 Axes>"
      ]
     },
     "metadata": {
      "needs_background": "light"
     },
     "output_type": "display_data"
    }
   ],
   "source": [
    "plt.scatter(X[:,0],X[:,1])\n",
    "print(X[20])\n",
    "#plt.plot([14,14],[0,20],color=\"black\")\n",
    "plt.ylim(0,20)\n",
    "plt.xlim(8,20)\n",
    "plt.show()"
   ]
  },
  {
   "cell_type": "code",
   "execution_count": 7,
   "metadata": {},
   "outputs": [],
   "source": [
    "ms = MeanShift()\n",
    "ms.fit(X)\n",
    "labels = ms.labels_\n",
    "cluster_centers = ms.cluster_centers_"
   ]
  },
  {
   "cell_type": "code",
   "execution_count": 8,
   "metadata": {},
   "outputs": [
    {
     "name": "stdout",
     "output_type": "stream",
     "text": [
      "[[17.58664755 15.07210004]\n",
      " [15.81308636 10.00402699]\n",
      " [11.88288521  5.34442091]\n",
      " [ 8.5632967   1.91882822]]\n",
      "Number of estimated clusters: 4\n"
     ]
    }
   ],
   "source": [
    "print(cluster_centers)\n",
    "n_clusters_ = len(np.unique(labels))\n",
    "print(\"Number of estimated clusters:\", n_clusters_)"
   ]
  },
  {
   "cell_type": "code",
   "execution_count": 9,
   "metadata": {},
   "outputs": [],
   "source": [
    "colors = 10*['g.','b.','c.','k.','y.','m.']"
   ]
  },
  {
   "cell_type": "code",
   "execution_count": 10,
   "metadata": {},
   "outputs": [
    {
     "data": {
      "image/png": "[encoded data removed]",
      "text/plain": [
       "<Figure size 432x288 with 1 Axes>"
      ]
     },
     "metadata": {
      "needs_background": "light"
     },
     "output_type": "display_data"
    }
   ],
   "source": [
    "for i in range(len(X)):\n",
    "    plt.plot(X[i][0], X[i][1], colors[labels[i]], markersize = 10)\n",
    "\n",
    "plt.scatter(cluster_centers[:,0],cluster_centers[:,1],\n",
    "            marker=\"x\",color='k', s=150, linewidths = 5, zorder=10)\n",
    "#plt.plot([14,14],[0,20],color=\"black\")\n",
    "plt.scatter(carx,cary,color=\"black\")\n",
    "plt.ylim(0,20)\n",
    "plt.xlim(8,20)\n",
    "plt.show()"
   ]
  },
  {
   "cell_type": "code",
   "execution_count": 11,
   "metadata": {},
   "outputs": [
    {
     "name": "stdout",
     "output_type": "stream",
     "text": [
      "0\n"
     ]
    }
   ],
   "source": [
    "# count1=0 count2=0 count3=0\n",
    "count = []\n",
    "for i in range(n_clusters_):\n",
    "    count.append(0)\n",
    "print(count[0]) "
   ]
  },
  {
   "cell_type": "code",
   "execution_count": 12,
   "metadata": {},
   "outputs": [
    {
     "name": "stdout",
     "output_type": "stream",
     "text": [
      "6\n",
      "8\n",
      "6\n",
      "1\n"
     ]
    }
   ],
   "source": [
    "# counting the no.of cars in each cluster\n",
    "for i in range(n_clusters_):\n",
    "    for j in range(len(X)):\n",
    "        if(labels[j]==i):\n",
    "            count[i]=count[i]+1\n",
    "            \n",
    "for i in range(n_clusters_):\n",
    "    print(count[i])"
   ]
  },
  {
   "cell_type": "code",
   "execution_count": 13,
   "metadata": {},
   "outputs": [
    {
     "name": "stdout",
     "output_type": "stream",
     "text": [
      "1\n"
     ]
    }
   ],
   "source": [
    "highlabel=0;\n",
    "temp=count[0]\n",
    "for i in range(n_clusters_):\n",
    "    if count[i]>temp:\n",
    "        temp = count[i]\n",
    "        highlabel=i\n",
    "print(highlabel)"
   ]
  },
  {
   "cell_type": "code",
   "execution_count": 14,
   "metadata": {},
   "outputs": [
    {
     "name": "stdout",
     "output_type": "stream",
     "text": [
      "Co-ordinates are : [17.49926357 14.53979952]\n",
      "Co-ordinates are : [8.5632967  1.91882822]\n",
      "Co-ordinates are : [12.64711454  4.22418757]\n",
      "Co-ordinates are : [19.66700659 15.72422141]\n",
      "Co-ordinates are : [11.83071628  4.197194  ]\n",
      "Co-ordinates are : [10.72185499  7.61666602]\n",
      "Co-ordinates are : [19.43116874 17.42414219]\n",
      "Co-ordinates are : [16.65526886 16.22234718]\n",
      "Co-ordinates are : [12.49237327  4.82159487]\n",
      "Co-ordinates are : [12.41793644  4.6949291 ]\n",
      "Co-ordinates are : [11.18731576  6.51195389]\n",
      "Co-ordinates are : [17.70145387 14.78296049]\n",
      "Co-ordinates are : [17.94947515 16.83209272]\n"
     ]
    }
   ],
   "source": [
    "## moving all min(n-1) co-ordinates to max clustered lane\n",
    "\n",
    "for i in range(len(X)):\n",
    "    if(labels[i]!=highlabel):\n",
    "        print(\"Co-ordinates are :\",X[i])"
   ]
  },
  {
   "cell_type": "code",
   "execution_count": 16,
   "metadata": {},
   "outputs": [
    {
     "data": {
      "text/plain": [
       "'cc_highlabel = cluster_centers[highlabel]\\nprint(cc_highlabel)         \\nc=0\\n\\nfor i in range(len(X)):\\n    if(labels[i]!=highlabel):\\n        print(\"Co-ordinates are :\",X[i])\\n    if cc_highlabel>X[i[0]]:'"
      ]
     },
     "execution_count": 16,
     "metadata": {},
     "output_type": "execute_result"
    }
   ],
   "source": [
    "'''cc_highlabel = cluster_centers[highlabel]\n",
    "print(cc_highlabel)         \n",
    "c=0\n",
    "\n",
    "for i in range(len(X)):\n",
    "    if(labels[i]!=highlabel):\n",
    "        print(\"Co-ordinates are :\",X[i])\n",
    "    if cc_highlabel>X[i[0]]:'''"
   ]
  },
  {
   "cell_type": "code",
   "execution_count": 17,
   "metadata": {},
   "outputs": [
    {
     "name": "stdout",
     "output_type": "stream",
     "text": [
      "0.42857142857142855\n"
     ]
    }
   ],
   "source": [
    "TP=0\n",
    "TN=0\n",
    "FP=0\n",
    "FN=0\n",
    "for i in range(len(X)):\n",
    "    if(labels[i]==0):\n",
    "        if(X[i][0]<14):\n",
    "            TP=TP+1\n",
    "    if(labels[i]==1):\n",
    "        if(X[i][0]>14):\n",
    "            TN=TN+1\n",
    "    if(labels[i]==0):\n",
    "        if(X[i][0]>14):\n",
    "            FP=FP+1\n",
    "    if(labels[i]==1):\n",
    "        if(X[i][0]<14):\n",
    "            FN=FN+1\n",
    "print((TP+TN)/(FP+FN+TP+TN))"
   ]
  },
  {
   "cell_type": "code",
   "execution_count": null,
   "metadata": {},
   "outputs": [],
   "source": []
  }
 ],
 "metadata": {
  "kernelspec": {
   "display_name": "Python 3",
   "language": "python",
   "name": "python3"
  },
  "language_info": {
   "codemirror_mode": {
    "name": "ipython",
    "version": 3
   },
   "file_extension": ".py",
   "mimetype": "text/x-python",
   "name": "python",
   "nbconvert_exporter": "python",
   "pygments_lexer": "ipython3",
   "version": "3.6.6"
  }
 },
 "nbformat": 4,
 "nbformat_minor": 2
}
